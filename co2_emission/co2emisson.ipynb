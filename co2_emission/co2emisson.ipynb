{
 "cells": [
  {
   "cell_type": "code",
   "execution_count": 65,
   "metadata": {},
   "outputs": [],
   "source": [
    "import pandas as pd \n",
    "import numpy as np \n",
    "import re\n"
   ]
  },
  {
   "cell_type": "markdown",
   "metadata": {},
   "source": [
    "# DATA"
   ]
  },
  {
   "cell_type": "code",
   "execution_count": 66,
   "metadata": {},
   "outputs": [
    {
     "data": {
      "text/plain": [
       "(54937, 11)"
      ]
     },
     "execution_count": 66,
     "metadata": {},
     "output_type": "execute_result"
    }
   ],
   "source": [
    "df1 = pd.read_csv('train.csv')\n",
    "df1.shape"
   ]
  },
  {
   "cell_type": "code",
   "execution_count": 67,
   "metadata": {},
   "outputs": [
    {
     "name": "stdout",
     "output_type": "stream",
     "text": [
      "<class 'pandas.core.frame.DataFrame'>\n",
      "RangeIndex: 54937 entries, 0 to 54936\n",
      "Data columns (total 11 columns):\n",
      " #   Column                 Non-Null Count  Dtype \n",
      "---  ------                 --------------  ----- \n",
      " 0   Id                     54937 non-null  int64 \n",
      " 1   Make                   54937 non-null  object\n",
      " 2   Vehicle Class          54398 non-null  object\n",
      " 3   Engine Size(L)         53544 non-null  object\n",
      " 4   Cylinders              53739 non-null  object\n",
      " 5   Transmission           54527 non-null  object\n",
      " 6   Fuel Type              54391 non-null  object\n",
      " 7   Fuel Consumption City  53369 non-null  object\n",
      " 8   Fuel Consumption Hwy   53236 non-null  object\n",
      " 9   Fuel Consumption Comb  53263 non-null  object\n",
      " 10  CO2 Emissions(g/km)    54937 non-null  int64 \n",
      "dtypes: int64(2), object(9)\n",
      "memory usage: 4.6+ MB\n"
     ]
    }
   ],
   "source": [
    "df1.info()"
   ]
  },
  {
   "cell_type": "markdown",
   "metadata": {},
   "source": [
    "Dataset Description\n",
    "This dataset was gathered and modified from open.canada.ca\n",
    "\n",
    "Transmission\n",
    "- A = Automatic\n",
    "- AM = Automated manual\n",
    "- AS = Automatic with select shift\n",
    "- AV = Continuously variable\n",
    "- M = Manual\n",
    "- 3 - 10 = Number of gears\n",
    "\n",
    "Fuel type\n",
    "- X = Regular gasoline\n",
    "- Z = Premium gasoline\n",
    "- D = Diesel\n",
    "- E = Ethanol (E85)\n",
    "- N = Natural gas\n",
    "\n",
    "Fuel Consumption City\n",
    "- This column displays the vehicle's fuel consumption specifically during city driving conditions.\n",
    "\n",
    "Fuel Consumption Hwy\n",
    "- This column indicates the vehicle's fuel consumption under highway driving conditions.\n",
    "\n",
    "Fuel Consumption Comb\n",
    "- This column showcases the combined fuel consumption rating, calculated as a blend of 55% city driving and 45% highway driving.\n",
    "\n",
    "CO2 Emissions\n",
    "- The tailpipe emissions of carbon dioxide (in grams per kilometers) for combined city and highway driving\n"
   ]
  },
  {
   "cell_type": "markdown",
   "metadata": {},
   "source": [
    "# PRE-PROCESSING DATA"
   ]
  },
  {
   "cell_type": "markdown",
   "metadata": {},
   "source": [
    "## DATA CLEANING"
   ]
  },
  {
   "cell_type": "markdown",
   "metadata": {},
   "source": [
    "### MISSING VALUE HANDLING"
   ]
  },
  {
   "cell_type": "code",
   "execution_count": 68,
   "metadata": {},
   "outputs": [
    {
     "data": {
      "text/plain": [
       "Id                          0\n",
       "Make                        0\n",
       "Vehicle Class             539\n",
       "Engine Size(L)           1393\n",
       "Cylinders                1198\n",
       "Transmission              410\n",
       "Fuel Type                 546\n",
       "Fuel Consumption City    1568\n",
       "Fuel Consumption Hwy     1701\n",
       "Fuel Consumption Comb    1674\n",
       "CO2 Emissions(g/km)         0\n",
       "dtype: int64"
      ]
     },
     "execution_count": 68,
     "metadata": {},
     "output_type": "execute_result"
    }
   ],
   "source": [
    "df1.isnull().sum()"
   ]
  },
  {
   "cell_type": "code",
   "execution_count": 69,
   "metadata": {},
   "outputs": [
    {
     "data": {
      "text/plain": [
       "(46519, 11)"
      ]
     },
     "execution_count": 69,
     "metadata": {},
     "output_type": "execute_result"
    }
   ],
   "source": [
    "df2 = df1.dropna()\n",
    "df2.shape"
   ]
  },
  {
   "cell_type": "code",
   "execution_count": 70,
   "metadata": {},
   "outputs": [
    {
     "data": {
      "text/plain": [
       "Id                       0\n",
       "Make                     0\n",
       "Vehicle Class            0\n",
       "Engine Size(L)           0\n",
       "Cylinders                0\n",
       "Transmission             0\n",
       "Fuel Type                0\n",
       "Fuel Consumption City    0\n",
       "Fuel Consumption Hwy     0\n",
       "Fuel Consumption Comb    0\n",
       "CO2 Emissions(g/km)      0\n",
       "dtype: int64"
      ]
     },
     "execution_count": 70,
     "metadata": {},
     "output_type": "execute_result"
    }
   ],
   "source": [
    "df2.isnull().sum()\n"
   ]
  },
  {
   "cell_type": "markdown",
   "metadata": {},
   "source": [
    "### DUPLICATED DATA HANDLING"
   ]
  },
  {
   "cell_type": "code",
   "execution_count": 71,
   "metadata": {},
   "outputs": [
    {
     "data": {
      "text/plain": [
       "0"
      ]
     },
     "execution_count": 71,
     "metadata": {},
     "output_type": "execute_result"
    }
   ],
   "source": [
    "df2.duplicated().sum()"
   ]
  },
  {
   "cell_type": "markdown",
   "metadata": {},
   "source": [
    "## DATA TRANSFORMATION"
   ]
  },
  {
   "cell_type": "code",
   "execution_count": 72,
   "metadata": {},
   "outputs": [
    {
     "name": "stdout",
     "output_type": "stream",
     "text": [
      "<class 'pandas.core.frame.DataFrame'>\n",
      "Index: 46519 entries, 0 to 54936\n",
      "Data columns (total 11 columns):\n",
      " #   Column                 Non-Null Count  Dtype \n",
      "---  ------                 --------------  ----- \n",
      " 0   Id                     46519 non-null  int64 \n",
      " 1   Make                   46519 non-null  object\n",
      " 2   Vehicle Class          46519 non-null  object\n",
      " 3   Engine Size(L)         46519 non-null  object\n",
      " 4   Cylinders              46519 non-null  object\n",
      " 5   Transmission           46519 non-null  object\n",
      " 6   Fuel Type              46519 non-null  object\n",
      " 7   Fuel Consumption City  46519 non-null  object\n",
      " 8   Fuel Consumption Hwy   46519 non-null  object\n",
      " 9   Fuel Consumption Comb  46519 non-null  object\n",
      " 10  CO2 Emissions(g/km)    46519 non-null  int64 \n",
      "dtypes: int64(2), object(9)\n",
      "memory usage: 4.3+ MB\n"
     ]
    }
   ],
   "source": [
    "df2.info()"
   ]
  },
  {
   "cell_type": "markdown",
   "metadata": {},
   "source": [
    "Kita tidak akan membahas 'Make' and 'Vichle Class'"
   ]
  },
  {
   "cell_type": "code",
   "execution_count": 73,
   "metadata": {},
   "outputs": [],
   "source": [
    "df3 = df2.drop(['Make', 'Vehicle Class'], axis='columns')"
   ]
  },
  {
   "cell_type": "code",
   "execution_count": 74,
   "metadata": {},
   "outputs": [
    {
     "name": "stdout",
     "output_type": "stream",
     "text": [
      "<class 'pandas.core.frame.DataFrame'>\n",
      "Index: 46519 entries, 0 to 54936\n",
      "Data columns (total 9 columns):\n",
      " #   Column                 Non-Null Count  Dtype \n",
      "---  ------                 --------------  ----- \n",
      " 0   Id                     46519 non-null  int64 \n",
      " 1   Engine Size(L)         46519 non-null  object\n",
      " 2   Cylinders              46519 non-null  object\n",
      " 3   Transmission           46519 non-null  object\n",
      " 4   Fuel Type              46519 non-null  object\n",
      " 5   Fuel Consumption City  46519 non-null  object\n",
      " 6   Fuel Consumption Hwy   46519 non-null  object\n",
      " 7   Fuel Consumption Comb  46519 non-null  object\n",
      " 8   CO2 Emissions(g/km)    46519 non-null  int64 \n",
      "dtypes: int64(2), object(7)\n",
      "memory usage: 3.5+ MB\n"
     ]
    }
   ],
   "source": [
    "df3.info()"
   ]
  },
  {
   "cell_type": "markdown",
   "metadata": {},
   "source": [
    "#### 1. Engine Size(L)"
   ]
  },
  {
   "cell_type": "code",
   "execution_count": 75,
   "metadata": {},
   "outputs": [
    {
     "data": {
      "text/plain": [
       "(46519, 9)"
      ]
     },
     "execution_count": 75,
     "metadata": {},
     "output_type": "execute_result"
    }
   ],
   "source": [
    "df4 = df3.copy()\n",
    "df4.shape"
   ]
  },
  {
   "cell_type": "code",
   "execution_count": 76,
   "metadata": {},
   "outputs": [
    {
     "data": {
      "text/plain": [
       "array(['1.5', 'not-available', '2.0', 'unknown', '1.8', '2.4', '3.5',\n",
       "       '2.7', '1.6', '1.2', '2.5', '3.2', '5.0', '8.4', '1.4', '3.8',\n",
       "       'unestablished', '4.4', '3.0', '3.6', '6.2', '5.7', 'na', '5.2',\n",
       "       '6.4', '2.3', 'not-recorded', '3.3', '5.3', 'missing', '6.5',\n",
       "       '1.0', '4.0', '3.7', '1.3', 'unspecified', '4.6', '4.8', '5.6',\n",
       "       '2.8', '6.0', '4.2', '4.3', '6.6', '5.4', '3.4', '5.8', '6.8',\n",
       "       '2.2'], dtype=object)"
      ]
     },
     "execution_count": 76,
     "metadata": {},
     "output_type": "execute_result"
    }
   ],
   "source": [
    "df4['Engine Size(L)'].unique()"
   ]
  },
  {
   "cell_type": "code",
   "execution_count": 77,
   "metadata": {},
   "outputs": [],
   "source": [
    "df4['Engine Size(L)'] = df4['Engine Size(L)'].replace({'not-available':-1,\n",
    "                               'unknown':-1,\n",
    "                               'unestablished':-1,\n",
    "                               'not-recorded':-1,\n",
    "                               'missing':-1,\n",
    "                               'unspecified':-1,\n",
    "                               'na':-1})\n",
    "df4['Engine Size(L)'] = df4['Engine Size(L)'].apply(lambda x: float(x))\n",
    "df4 = df4[df4['Engine Size(L)'] > 0]"
   ]
  },
  {
   "cell_type": "code",
   "execution_count": 78,
   "metadata": {},
   "outputs": [
    {
     "data": {
      "text/plain": [
       "(43168, 9)"
      ]
     },
     "execution_count": 78,
     "metadata": {},
     "output_type": "execute_result"
    }
   ],
   "source": [
    "df4.shape"
   ]
  },
  {
   "cell_type": "markdown",
   "metadata": {},
   "source": [
    "#### 2. Cylinders"
   ]
  },
  {
   "cell_type": "code",
   "execution_count": 79,
   "metadata": {},
   "outputs": [
    {
     "data": {
      "text/plain": [
       "(43168, 9)"
      ]
     },
     "execution_count": 79,
     "metadata": {},
     "output_type": "execute_result"
    }
   ],
   "source": [
    "df5 = df4.copy()\n",
    "df5.shape"
   ]
  },
  {
   "cell_type": "code",
   "execution_count": 80,
   "metadata": {},
   "outputs": [
    {
     "data": {
      "text/plain": [
       "Cylinders\n",
       "4.0              21176\n",
       "6.0              12123\n",
       "8.0               6321\n",
       "not-recorded       648\n",
       "unestablished      353\n",
       "missing            342\n",
       "na                 337\n",
       "unspecified        328\n",
       "not-available      324\n",
       "unknown            310\n",
       "3.0                279\n",
       "12.0               232\n",
       "10.0               222\n",
       "5.0                173\n",
       "Name: count, dtype: int64"
      ]
     },
     "execution_count": 80,
     "metadata": {},
     "output_type": "execute_result"
    }
   ],
   "source": [
    "df5['Cylinders'].value_counts()"
   ]
  },
  {
   "cell_type": "code",
   "execution_count": 81,
   "metadata": {},
   "outputs": [],
   "source": [
    "df5['Cylinders'] = df5['Cylinders'].replace({'not-available':-1,\n",
    "                               'unknown':-1,\n",
    "                               'unestablished':-1,\n",
    "                               'not-recorded':-1,\n",
    "                               'missing':-1,\n",
    "                               'unspecified':-1,\n",
    "                               'na':-1})\n",
    "df5['Cylinders'] = df5['Cylinders'].apply(lambda x: float(x))\n",
    "df5 = df5[df5['Cylinders'] > 0]"
   ]
  },
  {
   "cell_type": "code",
   "execution_count": 82,
   "metadata": {},
   "outputs": [
    {
     "data": {
      "text/plain": [
       "(40526, 9)"
      ]
     },
     "execution_count": 82,
     "metadata": {},
     "output_type": "execute_result"
    }
   ],
   "source": [
    "df5.shape"
   ]
  },
  {
   "cell_type": "markdown",
   "metadata": {},
   "source": [
    "#### 3. Transmission"
   ]
  },
  {
   "cell_type": "code",
   "execution_count": 83,
   "metadata": {},
   "outputs": [
    {
     "data": {
      "text/plain": [
       "(40526, 9)"
      ]
     },
     "execution_count": 83,
     "metadata": {},
     "output_type": "execute_result"
    }
   ],
   "source": [
    "df6 = df5.copy()\n",
    "df6.shape"
   ]
  },
  {
   "cell_type": "code",
   "execution_count": 84,
   "metadata": {},
   "outputs": [
    {
     "data": {
      "text/plain": [
       "Transmission\n",
       "AS6              9007\n",
       "AS8              6181\n",
       "M6               5806\n",
       "A6               3880\n",
       "AV               2351\n",
       "A8               2073\n",
       "M5               1533\n",
       "AS10             1367\n",
       "AM7              1107\n",
       "A9               1067\n",
       "AV6               934\n",
       "AV7               846\n",
       "AM6               784\n",
       "A5                700\n",
       "AS9               511\n",
       "A4                429\n",
       "AV8               261\n",
       "AS7               234\n",
       "AS5               208\n",
       "not-recorded      190\n",
       "A10               114\n",
       "na                113\n",
       "AM8               111\n",
       "unspecified       108\n",
       "not-available     106\n",
       "AV10               99\n",
       "unknown            99\n",
       "missing            97\n",
       "unestablished      93\n",
       "M7                 77\n",
       "AM9                24\n",
       "A7                 16\n",
       "Name: count, dtype: int64"
      ]
     },
     "execution_count": 84,
     "metadata": {},
     "output_type": "execute_result"
    }
   ],
   "source": [
    "df6['Transmission'].value_counts()"
   ]
  },
  {
   "cell_type": "code",
   "execution_count": 85,
   "metadata": {},
   "outputs": [
    {
     "data": {
      "text/plain": [
       "'AV8'"
      ]
     },
     "execution_count": 85,
     "metadata": {},
     "output_type": "execute_result"
    }
   ],
   "source": [
    "df6['Transmission'][0]"
   ]
  },
  {
   "cell_type": "code",
   "execution_count": 86,
   "metadata": {},
   "outputs": [
    {
     "data": {
      "text/plain": [
       "['8']"
      ]
     },
     "execution_count": 86,
     "metadata": {},
     "output_type": "execute_result"
    }
   ],
   "source": [
    "x = re.findall('\\d{1}',df6['Transmission'][0] )\n",
    "x"
   ]
  },
  {
   "cell_type": "code",
   "execution_count": 240,
   "metadata": {},
   "outputs": [],
   "source": [
    "df7 = df6.copy()"
   ]
  },
  {
   "cell_type": "code",
   "execution_count": 241,
   "metadata": {},
   "outputs": [],
   "source": [
    "df7[['Transmission_code', 'Gear']] = df7['Transmission'].str.extract(r'([A-Za-z]+)(\\d+)', expand=True)\n",
    "\n",
    "# If your column contains NaN values, you can fill them with empty strings or any other value\n",
    "df7[['Transmission_code', 'Gear']] = df7[['Transmission_code', 'Gear']].fillna('')\n",
    "\n",
    "# Convert the 'Gear' column to integers\n",
    "df7['Gear'] = pd.to_numeric(df7['Gear'], errors='coerce').astype('Int64')\n"
   ]
  },
  {
   "cell_type": "code",
   "execution_count": 242,
   "metadata": {},
   "outputs": [
    {
     "name": "stdout",
     "output_type": "stream",
     "text": [
      "<class 'pandas.core.frame.DataFrame'>\n",
      "Index: 40526 entries, 0 to 54936\n",
      "Data columns (total 11 columns):\n",
      " #   Column                 Non-Null Count  Dtype  \n",
      "---  ------                 --------------  -----  \n",
      " 0   Id                     40526 non-null  int64  \n",
      " 1   Engine Size(L)         40526 non-null  float64\n",
      " 2   Cylinders              40526 non-null  float64\n",
      " 3   Transmission           40526 non-null  object \n",
      " 4   Fuel Type              40526 non-null  object \n",
      " 5   Fuel Consumption City  40526 non-null  object \n",
      " 6   Fuel Consumption Hwy   40526 non-null  object \n",
      " 7   Fuel Consumption Comb  40526 non-null  object \n",
      " 8   CO2 Emissions(g/km)    40526 non-null  int64  \n",
      " 9   Transmission_code      40526 non-null  object \n",
      " 10  Gear                   37369 non-null  Int64  \n",
      "dtypes: Int64(1), float64(2), int64(2), object(6)\n",
      "memory usage: 4.8+ MB\n"
     ]
    }
   ],
   "source": [
    "df7.info()"
   ]
  },
  {
   "cell_type": "markdown",
   "metadata": {},
   "source": [
    "Encode the 'Transmission_code'"
   ]
  },
  {
   "cell_type": "code",
   "execution_count": 243,
   "metadata": {},
   "outputs": [
    {
     "data": {
      "text/plain": [
       "array(['AV', 'AS', 'M', 'A', '', 'AM'], dtype=object)"
      ]
     },
     "execution_count": 243,
     "metadata": {},
     "output_type": "execute_result"
    }
   ],
   "source": [
    "df7['Transmission_code'].unique()"
   ]
  },
  {
   "cell_type": "code",
   "execution_count": 244,
   "metadata": {},
   "outputs": [],
   "source": [
    "df7['Transmission_value'] = -1"
   ]
  },
  {
   "cell_type": "code",
   "execution_count": 245,
   "metadata": {},
   "outputs": [],
   "source": [
    "df7['Transmission_value'] = df7['Transmission_code'].replace({'AV':3, 'AS':2, 'M':0, 'A':4, '':-1, 'AM':1})\n",
    "df8 = df7[df7['Transmission_value'] >= 0]\n",
    "df8 = df8.drop(['Transmission','Transmission_code'], axis=1)"
   ]
  },
  {
   "cell_type": "code",
   "execution_count": 246,
   "metadata": {},
   "outputs": [],
   "source": [
    "# # Convert the 'City' column to dummy variables\n",
    "# df8_dummies = pd.get_dummies(df7['Transmission_code'], prefix='T')\n",
    "# df8_dummies = df8_dummies.astype(int)\n",
    "\n",
    "# # Concatenate the dummy variables with the original DataFrame\n",
    "# df8 = pd.concat([df7, df8_dummies], axis=1)\n",
    "\n",
    "# # Drop the original 'Transmission_code' column\n",
    "# df8 = df8.drop(['Transmission','Transmission_code','T_'], axis=1)"
   ]
  },
  {
   "cell_type": "code",
   "execution_count": 247,
   "metadata": {},
   "outputs": [
    {
     "name": "stdout",
     "output_type": "stream",
     "text": [
      "<class 'pandas.core.frame.DataFrame'>\n",
      "Index: 37369 entries, 0 to 54936\n",
      "Data columns (total 10 columns):\n",
      " #   Column                 Non-Null Count  Dtype  \n",
      "---  ------                 --------------  -----  \n",
      " 0   Id                     37369 non-null  int64  \n",
      " 1   Engine Size(L)         37369 non-null  float64\n",
      " 2   Cylinders              37369 non-null  float64\n",
      " 3   Fuel Type              37369 non-null  object \n",
      " 4   Fuel Consumption City  37369 non-null  object \n",
      " 5   Fuel Consumption Hwy   37369 non-null  object \n",
      " 6   Fuel Consumption Comb  37369 non-null  object \n",
      " 7   CO2 Emissions(g/km)    37369 non-null  int64  \n",
      " 8   Gear                   37369 non-null  Int64  \n",
      " 9   Transmission_value     37369 non-null  int64  \n",
      "dtypes: Int64(1), float64(2), int64(3), object(4)\n",
      "memory usage: 3.2+ MB\n"
     ]
    }
   ],
   "source": [
    "df8.info()"
   ]
  },
  {
   "cell_type": "markdown",
   "metadata": {},
   "source": [
    "#### 4. Fuel Type"
   ]
  },
  {
   "cell_type": "code",
   "execution_count": 248,
   "metadata": {},
   "outputs": [
    {
     "data": {
      "text/plain": [
       "(37369, 10)"
      ]
     },
     "execution_count": 248,
     "metadata": {},
     "output_type": "execute_result"
    }
   ],
   "source": [
    "df9 = df8.copy()\n",
    "df9.shape"
   ]
  },
  {
   "cell_type": "code",
   "execution_count": 249,
   "metadata": {},
   "outputs": [
    {
     "data": {
      "text/plain": [
       "array(['X', 'Z', 'E', 'not-recorded', 'D', 'unspecified', 'unknown',\n",
       "       'not-available', 'na', 'missing', 'unestablished', 'N'],\n",
       "      dtype=object)"
      ]
     },
     "execution_count": 249,
     "metadata": {},
     "output_type": "execute_result"
    }
   ],
   "source": [
    "df9['Fuel Type'].unique()"
   ]
  },
  {
   "cell_type": "code",
   "execution_count": 250,
   "metadata": {},
   "outputs": [],
   "source": [
    "df9['Fuel Type'] = df9['Fuel Type'].replace({'not-available':None,\n",
    "                               'unknown':None,\n",
    "                               'unestablished':None,\n",
    "                               'not-recorded':None,\n",
    "                               'missing':None,\n",
    "                               'unspecified':None,\n",
    "                               'na':None})"
   ]
  },
  {
   "cell_type": "code",
   "execution_count": 251,
   "metadata": {},
   "outputs": [],
   "source": [
    "df9 = df9.dropna()"
   ]
  },
  {
   "cell_type": "code",
   "execution_count": 252,
   "metadata": {},
   "outputs": [
    {
     "name": "stdout",
     "output_type": "stream",
     "text": [
      "<class 'pandas.core.frame.DataFrame'>\n",
      "Index: 36421 entries, 0 to 54936\n",
      "Data columns (total 10 columns):\n",
      " #   Column                 Non-Null Count  Dtype  \n",
      "---  ------                 --------------  -----  \n",
      " 0   Id                     36421 non-null  int64  \n",
      " 1   Engine Size(L)         36421 non-null  float64\n",
      " 2   Cylinders              36421 non-null  float64\n",
      " 3   Fuel Type              36421 non-null  object \n",
      " 4   Fuel Consumption City  36421 non-null  object \n",
      " 5   Fuel Consumption Hwy   36421 non-null  object \n",
      " 6   Fuel Consumption Comb  36421 non-null  object \n",
      " 7   CO2 Emissions(g/km)    36421 non-null  int64  \n",
      " 8   Gear                   36421 non-null  Int64  \n",
      " 9   Transmission_value     36421 non-null  int64  \n",
      "dtypes: Int64(1), float64(2), int64(3), object(4)\n",
      "memory usage: 3.1+ MB\n"
     ]
    }
   ],
   "source": [
    "df9.info()"
   ]
  },
  {
   "cell_type": "markdown",
   "metadata": {},
   "source": [
    "Mengganti nilai \n",
    "- X = Regular gasoline : 2 \n",
    "- Z = Premium gasoline : 3\n",
    "- D = Diesel : 0\n",
    "- E = Ethanol (E85) : 4\n",
    "- N = Natural gas : 1"
   ]
  },
  {
   "cell_type": "code",
   "execution_count": 253,
   "metadata": {},
   "outputs": [],
   "source": [
    "df9['Fuel Type'] = df9['Fuel Type'].replace({'D':0,\n",
    "                               'N':1,\n",
    "                               'X':2,\n",
    "                               'Z':3,\n",
    "                               'E':4})"
   ]
  },
  {
   "cell_type": "code",
   "execution_count": 254,
   "metadata": {},
   "outputs": [
    {
     "name": "stdout",
     "output_type": "stream",
     "text": [
      "<class 'pandas.core.frame.DataFrame'>\n",
      "Index: 36421 entries, 0 to 54936\n",
      "Data columns (total 10 columns):\n",
      " #   Column                 Non-Null Count  Dtype  \n",
      "---  ------                 --------------  -----  \n",
      " 0   Id                     36421 non-null  int64  \n",
      " 1   Engine Size(L)         36421 non-null  float64\n",
      " 2   Cylinders              36421 non-null  float64\n",
      " 3   Fuel Type              36421 non-null  int64  \n",
      " 4   Fuel Consumption City  36421 non-null  object \n",
      " 5   Fuel Consumption Hwy   36421 non-null  object \n",
      " 6   Fuel Consumption Comb  36421 non-null  object \n",
      " 7   CO2 Emissions(g/km)    36421 non-null  int64  \n",
      " 8   Gear                   36421 non-null  Int64  \n",
      " 9   Transmission_value     36421 non-null  int64  \n",
      "dtypes: Int64(1), float64(2), int64(4), object(3)\n",
      "memory usage: 3.1+ MB\n"
     ]
    }
   ],
   "source": [
    "df9.info()"
   ]
  },
  {
   "cell_type": "markdown",
   "metadata": {},
   "source": [
    "#### 5. Fuel Consumption Comb"
   ]
  },
  {
   "cell_type": "code",
   "execution_count": 255,
   "metadata": {},
   "outputs": [
    {
     "data": {
      "text/plain": [
       "0                   0.98 L/10km\n",
       "2                31.76 mpg Imp.\n",
       "4        8.01 liters per 100 km\n",
       "5                  9.81 L/100km\n",
       "7                21.28 MPG (AS)\n",
       "                  ...          \n",
       "54932            22.39 MPG (AS)\n",
       "54933            14.41 MPG (AS)\n",
       "54934            15.63 L/100 km\n",
       "54935            14.52 L/100 km\n",
       "54936             not-available\n",
       "Name: Fuel Consumption Comb, Length: 36421, dtype: object"
      ]
     },
     "execution_count": 255,
     "metadata": {},
     "output_type": "execute_result"
    }
   ],
   "source": [
    "df9['Fuel Consumption Comb']"
   ]
  },
  {
   "cell_type": "code",
   "execution_count": 256,
   "metadata": {},
   "outputs": [
    {
     "data": {
      "text/plain": [
       "(36421, 10)"
      ]
     },
     "execution_count": 256,
     "metadata": {},
     "output_type": "execute_result"
    }
   ],
   "source": [
    "df10 = df9.copy()\n",
    "df10.shape"
   ]
  },
  {
   "cell_type": "code",
   "execution_count": 257,
   "metadata": {},
   "outputs": [],
   "source": [
    "df10['Fuel Consumption Comb'] = df10['Fuel Consumption Comb'].replace({'not-available':None,\n",
    "                               'unknown':None,\n",
    "                               'unestablished':None,\n",
    "                               'not-recorded':None,\n",
    "                               'missing':None,\n",
    "                               'unspecified':None,\n",
    "                               'na':None,\n",
    "                               'zero':'0'})"
   ]
  },
  {
   "cell_type": "code",
   "execution_count": 258,
   "metadata": {},
   "outputs": [],
   "source": [
    "df10 = df10.dropna()"
   ]
  },
  {
   "cell_type": "code",
   "execution_count": 259,
   "metadata": {},
   "outputs": [
    {
     "data": {
      "text/plain": [
       "0                0.98L/10km\n",
       "2              31.76mpgImp.\n",
       "4        8.01litersper100km\n",
       "5               9.81L/100km\n",
       "7              21.28MPG(AS)\n",
       "                ...        \n",
       "54931           11.52kmperL\n",
       "54932          22.39MPG(AS)\n",
       "54933          14.41MPG(AS)\n",
       "54934          15.63L/100km\n",
       "54935          14.52L/100km\n",
       "Name: Fuel Consumption Comb, Length: 36112, dtype: object"
      ]
     },
     "execution_count": 259,
     "metadata": {},
     "output_type": "execute_result"
    }
   ],
   "source": [
    "df10['Fuel Consumption Comb'] = df10['Fuel Consumption Comb'].str.replace(' ','')\n",
    "df10['Fuel Consumption Comb']"
   ]
  },
  {
   "cell_type": "code",
   "execution_count": 260,
   "metadata": {},
   "outputs": [],
   "source": [
    "# Regular expression pattern to extract floating-point numbers with optional unit\n",
    "float_pattern = r'([-+]?\\d*\\.\\d+|\\d+)(.*)?'\n",
    "\n",
    "# Extracting floating-point numbers and units\n",
    "df10[['Value', 'Unit']] = df10['Fuel Consumption Comb'].str.extract(float_pattern)\n",
    "\n",
    "# Handling NaN values in the 'Unit' column\n",
    "df10['Unit'] = df10['Unit'].fillna('')\n",
    "df10['Value'] = df10['Value'].astype(float)"
   ]
  },
  {
   "cell_type": "code",
   "execution_count": 261,
   "metadata": {},
   "outputs": [
    {
     "data": {
      "text/html": [
       "<div>\n",
       "<style scoped>\n",
       "    .dataframe tbody tr th:only-of-type {\n",
       "        vertical-align: middle;\n",
       "    }\n",
       "\n",
       "    .dataframe tbody tr th {\n",
       "        vertical-align: top;\n",
       "    }\n",
       "\n",
       "    .dataframe thead th {\n",
       "        text-align: right;\n",
       "    }\n",
       "</style>\n",
       "<table border=\"1\" class=\"dataframe\">\n",
       "  <thead>\n",
       "    <tr style=\"text-align: right;\">\n",
       "      <th></th>\n",
       "      <th>Fuel Consumption Comb</th>\n",
       "      <th>Value</th>\n",
       "      <th>Unit</th>\n",
       "    </tr>\n",
       "  </thead>\n",
       "  <tbody>\n",
       "    <tr>\n",
       "      <th>0</th>\n",
       "      <td>0.98L/10km</td>\n",
       "      <td>0.98</td>\n",
       "      <td>L/10km</td>\n",
       "    </tr>\n",
       "    <tr>\n",
       "      <th>2</th>\n",
       "      <td>31.76mpgImp.</td>\n",
       "      <td>31.76</td>\n",
       "      <td>mpgImp.</td>\n",
       "    </tr>\n",
       "    <tr>\n",
       "      <th>4</th>\n",
       "      <td>8.01litersper100km</td>\n",
       "      <td>8.01</td>\n",
       "      <td>litersper100km</td>\n",
       "    </tr>\n",
       "    <tr>\n",
       "      <th>5</th>\n",
       "      <td>9.81L/100km</td>\n",
       "      <td>9.81</td>\n",
       "      <td>L/100km</td>\n",
       "    </tr>\n",
       "    <tr>\n",
       "      <th>7</th>\n",
       "      <td>21.28MPG(AS)</td>\n",
       "      <td>21.28</td>\n",
       "      <td>MPG(AS)</td>\n",
       "    </tr>\n",
       "  </tbody>\n",
       "</table>\n",
       "</div>"
      ],
      "text/plain": [
       "  Fuel Consumption Comb  Value            Unit\n",
       "0            0.98L/10km   0.98          L/10km\n",
       "2          31.76mpgImp.  31.76         mpgImp.\n",
       "4    8.01litersper100km   8.01  litersper100km\n",
       "5           9.81L/100km   9.81         L/100km\n",
       "7          21.28MPG(AS)  21.28         MPG(AS)"
      ]
     },
     "execution_count": 261,
     "metadata": {},
     "output_type": "execute_result"
    }
   ],
   "source": [
    "df10[['Fuel Consumption Comb','Value','Unit']].head()"
   ]
  },
  {
   "cell_type": "markdown",
   "metadata": {},
   "source": [
    "Sekarang kita akan menentukan nilai yang sesuai dan seragam dari 'Fuel Consumption Comb'"
   ]
  },
  {
   "cell_type": "code",
   "execution_count": 262,
   "metadata": {},
   "outputs": [],
   "source": [
    "df11 = df10.copy()"
   ]
  },
  {
   "cell_type": "code",
   "execution_count": 263,
   "metadata": {},
   "outputs": [
    {
     "data": {
      "text/plain": [
       "array(['L/10km', 'mpgImp.', 'litersper100km', 'L/100km', 'MPG(AS)',\n",
       "       'kmperL', 'km/L', ''], dtype=object)"
      ]
     },
     "execution_count": 263,
     "metadata": {},
     "output_type": "execute_result"
    }
   ],
   "source": [
    "df11['Unit'].unique()"
   ]
  },
  {
   "cell_type": "code",
   "execution_count": 264,
   "metadata": {},
   "outputs": [
    {
     "data": {
      "text/plain": [
       "0.0"
      ]
     },
     "execution_count": 264,
     "metadata": {},
     "output_type": "execute_result"
    }
   ],
   "source": [
    "df11.loc[(df11['Unit'] == '') & (df11['Value'] != 0), 'Value'].sum()"
   ]
  },
  {
   "cell_type": "markdown",
   "metadata": {},
   "source": [
    "Kita akan menyeragamkan menjadi 'L/km'\n",
    "- (x L/10km) -> 10x\n",
    "- (x L/100km) | (litersper100km) -> 10x\n",
    "- (x km/L) | (kmperL) -> 1/x\n",
    "- (mpgImp.) -> (1/x) * (1/0.425144) \n",
    "- (MPG(AS)) -> (1/x) * (1/0.354006189)\n"
   ]
  },
  {
   "cell_type": "code",
   "execution_count": 265,
   "metadata": {},
   "outputs": [],
   "source": [
    "df11['Fuel Consumption Comb (L/km)'] = 0"
   ]
  },
  {
   "cell_type": "code",
   "execution_count": 266,
   "metadata": {},
   "outputs": [
    {
     "data": {
      "text/plain": [
       "2.8248163843563203"
      ]
     },
     "execution_count": 266,
     "metadata": {},
     "output_type": "execute_result"
    }
   ],
   "source": [
    "4.54609 / 1.60934"
   ]
  },
  {
   "cell_type": "code",
   "execution_count": 267,
   "metadata": {},
   "outputs": [
    {
     "data": {
      "text/plain": [
       "2.824809370776283"
      ]
     },
     "execution_count": 267,
     "metadata": {},
     "output_type": "execute_result"
    }
   ],
   "source": [
    "1/0.354006189"
   ]
  },
  {
   "cell_type": "code",
   "execution_count": 268,
   "metadata": {},
   "outputs": [
    {
     "data": {
      "text/plain": [
       "0.011146290585642317"
      ]
     },
     "execution_count": 268,
     "metadata": {},
     "output_type": "execute_result"
    }
   ],
   "source": [
    "1/ (31.76 * 2.824809370776283)"
   ]
  },
  {
   "cell_type": "code",
   "execution_count": 269,
   "metadata": {},
   "outputs": [],
   "source": [
    "df11 = df11.reset_index(drop=True)"
   ]
  },
  {
   "cell_type": "code",
   "execution_count": 270,
   "metadata": {},
   "outputs": [
    {
     "name": "stderr",
     "output_type": "stream",
     "text": [
      "C:\\Users\\sabri\\AppData\\Local\\Temp\\ipykernel_11100\\1661913402.py:3: SettingWithCopyWarning: \n",
      "A value is trying to be set on a copy of a slice from a DataFrame\n",
      "\n",
      "See the caveats in the documentation: https://pandas.pydata.org/pandas-docs/stable/user_guide/indexing.html#returning-a-view-versus-a-copy\n",
      "  df11['Fuel Consumption Comb (L/km)'][i] = value/10\n",
      "C:\\Users\\sabri\\AppData\\Local\\Temp\\ipykernel_11100\\1661913402.py:3: FutureWarning: Setting an item of incompatible dtype is deprecated and will raise in a future error of pandas. Value '0.098' has dtype incompatible with int64, please explicitly cast to a compatible dtype first.\n",
      "  df11['Fuel Consumption Comb (L/km)'][i] = value/10\n"
     ]
    }
   ],
   "source": [
    "for i, (value, unit) in enumerate(zip(df11['Value'], df11['Unit'])):\n",
    "    if unit == 'L/10km':\n",
    "        df11['Fuel Consumption Comb (L/km)'][i] = value/10\n",
    "    elif (unit == 'L/100km') | (unit == 'litersper100km'):\n",
    "        df11['Fuel Consumption Comb (L/km)'][i] = value/100\n",
    "    elif (unit == 'km/L') | (unit == 'kmperL'):\n",
    "        df11['Fuel Consumption Comb (L/km)'][i] = 1/value\n",
    "    elif unit == 'mpgImp.':\n",
    "        df11['Fuel Consumption Comb (L/km)'][i] =  2.82481/value\n",
    "    elif unit == 'MPG(AS)':\n",
    "        df11['Fuel Consumption Comb (L/km)'][i] = 2.35215/value\n",
    "    "
   ]
  },
  {
   "cell_type": "code",
   "execution_count": 271,
   "metadata": {},
   "outputs": [
    {
     "data": {
      "text/html": [
       "<div>\n",
       "<style scoped>\n",
       "    .dataframe tbody tr th:only-of-type {\n",
       "        vertical-align: middle;\n",
       "    }\n",
       "\n",
       "    .dataframe tbody tr th {\n",
       "        vertical-align: top;\n",
       "    }\n",
       "\n",
       "    .dataframe thead th {\n",
       "        text-align: right;\n",
       "    }\n",
       "</style>\n",
       "<table border=\"1\" class=\"dataframe\">\n",
       "  <thead>\n",
       "    <tr style=\"text-align: right;\">\n",
       "      <th></th>\n",
       "      <th>Id</th>\n",
       "      <th>Engine Size(L)</th>\n",
       "      <th>Cylinders</th>\n",
       "      <th>Fuel Type</th>\n",
       "      <th>Fuel Consumption City</th>\n",
       "      <th>Fuel Consumption Hwy</th>\n",
       "      <th>Fuel Consumption Comb</th>\n",
       "      <th>CO2 Emissions(g/km)</th>\n",
       "      <th>Gear</th>\n",
       "      <th>Transmission_value</th>\n",
       "      <th>Value</th>\n",
       "      <th>Unit</th>\n",
       "      <th>Fuel Consumption Comb (L/km)</th>\n",
       "    </tr>\n",
       "  </thead>\n",
       "  <tbody>\n",
       "    <tr>\n",
       "      <th>0</th>\n",
       "      <td>1</td>\n",
       "      <td>1.5</td>\n",
       "      <td>4.0</td>\n",
       "      <td>2</td>\n",
       "      <td>8.40 km/L</td>\n",
       "      <td>0.72 L/10km</td>\n",
       "      <td>0.98L/10km</td>\n",
       "      <td>208</td>\n",
       "      <td>8</td>\n",
       "      <td>3</td>\n",
       "      <td>0.98</td>\n",
       "      <td>L/10km</td>\n",
       "      <td>0.098000</td>\n",
       "    </tr>\n",
       "    <tr>\n",
       "      <th>1</th>\n",
       "      <td>3</td>\n",
       "      <td>2.0</td>\n",
       "      <td>4.0</td>\n",
       "      <td>2</td>\n",
       "      <td>9.80 km/L</td>\n",
       "      <td>38.70 mpg Imp.</td>\n",
       "      <td>31.76mpgImp.</td>\n",
       "      <td>170</td>\n",
       "      <td>6</td>\n",
       "      <td>2</td>\n",
       "      <td>31.76</td>\n",
       "      <td>mpgImp.</td>\n",
       "      <td>0.088942</td>\n",
       "    </tr>\n",
       "    <tr>\n",
       "      <th>2</th>\n",
       "      <td>5</td>\n",
       "      <td>1.8</td>\n",
       "      <td>4.0</td>\n",
       "      <td>2</td>\n",
       "      <td>8.10 L/100km</td>\n",
       "      <td>35.76 mpg Imp.</td>\n",
       "      <td>8.01litersper100km</td>\n",
       "      <td>180</td>\n",
       "      <td>6</td>\n",
       "      <td>0</td>\n",
       "      <td>8.01</td>\n",
       "      <td>litersper100km</td>\n",
       "      <td>0.080100</td>\n",
       "    </tr>\n",
       "    <tr>\n",
       "      <th>3</th>\n",
       "      <td>6</td>\n",
       "      <td>2.4</td>\n",
       "      <td>4.0</td>\n",
       "      <td>2</td>\n",
       "      <td>8.85 km per L</td>\n",
       "      <td>29.40 MPG (AS)</td>\n",
       "      <td>9.81L/100km</td>\n",
       "      <td>216</td>\n",
       "      <td>6</td>\n",
       "      <td>4</td>\n",
       "      <td>9.81</td>\n",
       "      <td>L/100km</td>\n",
       "      <td>0.098100</td>\n",
       "    </tr>\n",
       "    <tr>\n",
       "      <th>4</th>\n",
       "      <td>8</td>\n",
       "      <td>3.5</td>\n",
       "      <td>6.0</td>\n",
       "      <td>2</td>\n",
       "      <td>19.60 MPG (AS)</td>\n",
       "      <td>10.10 km/L</td>\n",
       "      <td>21.28MPG(AS)</td>\n",
       "      <td>221</td>\n",
       "      <td>6</td>\n",
       "      <td>2</td>\n",
       "      <td>21.28</td>\n",
       "      <td>MPG(AS)</td>\n",
       "      <td>0.110533</td>\n",
       "    </tr>\n",
       "  </tbody>\n",
       "</table>\n",
       "</div>"
      ],
      "text/plain": [
       "   Id  Engine Size(L)  Cylinders  Fuel Type Fuel Consumption City  \\\n",
       "0   1             1.5        4.0          2             8.40 km/L   \n",
       "1   3             2.0        4.0          2             9.80 km/L   \n",
       "2   5             1.8        4.0          2          8.10 L/100km   \n",
       "3   6             2.4        4.0          2         8.85 km per L   \n",
       "4   8             3.5        6.0          2        19.60 MPG (AS)   \n",
       "\n",
       "  Fuel Consumption Hwy Fuel Consumption Comb  CO2 Emissions(g/km)  Gear  \\\n",
       "0          0.72 L/10km            0.98L/10km                  208     8   \n",
       "1       38.70 mpg Imp.          31.76mpgImp.                  170     6   \n",
       "2       35.76 mpg Imp.    8.01litersper100km                  180     6   \n",
       "3       29.40 MPG (AS)           9.81L/100km                  216     6   \n",
       "4           10.10 km/L          21.28MPG(AS)                  221     6   \n",
       "\n",
       "   Transmission_value  Value            Unit  Fuel Consumption Comb (L/km)  \n",
       "0                   3   0.98          L/10km                      0.098000  \n",
       "1                   2  31.76         mpgImp.                      0.088942  \n",
       "2                   0   8.01  litersper100km                      0.080100  \n",
       "3                   4   9.81         L/100km                      0.098100  \n",
       "4                   2  21.28         MPG(AS)                      0.110533  "
      ]
     },
     "execution_count": 271,
     "metadata": {},
     "output_type": "execute_result"
    }
   ],
   "source": [
    "df11.head()"
   ]
  },
  {
   "cell_type": "code",
   "execution_count": 272,
   "metadata": {},
   "outputs": [
    {
     "data": {
      "text/plain": [
       "Id                              0\n",
       "Engine Size(L)                  0\n",
       "Cylinders                       0\n",
       "Fuel Type                       0\n",
       "Fuel Consumption City           0\n",
       "Fuel Consumption Hwy            0\n",
       "Fuel Consumption Comb           0\n",
       "CO2 Emissions(g/km)             0\n",
       "Gear                            0\n",
       "Transmission_value              0\n",
       "Value                           0\n",
       "Unit                            0\n",
       "Fuel Consumption Comb (L/km)    0\n",
       "dtype: int64"
      ]
     },
     "execution_count": 272,
     "metadata": {},
     "output_type": "execute_result"
    }
   ],
   "source": [
    "df11.isnull().sum()"
   ]
  },
  {
   "cell_type": "code",
   "execution_count": 273,
   "metadata": {},
   "outputs": [
    {
     "name": "stdout",
     "output_type": "stream",
     "text": [
      "<class 'pandas.core.frame.DataFrame'>\n",
      "RangeIndex: 36112 entries, 0 to 36111\n",
      "Data columns (total 13 columns):\n",
      " #   Column                        Non-Null Count  Dtype  \n",
      "---  ------                        --------------  -----  \n",
      " 0   Id                            36112 non-null  int64  \n",
      " 1   Engine Size(L)                36112 non-null  float64\n",
      " 2   Cylinders                     36112 non-null  float64\n",
      " 3   Fuel Type                     36112 non-null  int64  \n",
      " 4   Fuel Consumption City         36112 non-null  object \n",
      " 5   Fuel Consumption Hwy          36112 non-null  object \n",
      " 6   Fuel Consumption Comb         36112 non-null  object \n",
      " 7   CO2 Emissions(g/km)           36112 non-null  int64  \n",
      " 8   Gear                          36112 non-null  Int64  \n",
      " 9   Transmission_value            36112 non-null  int64  \n",
      " 10  Value                         36112 non-null  float64\n",
      " 11  Unit                          36112 non-null  object \n",
      " 12  Fuel Consumption Comb (L/km)  36112 non-null  float64\n",
      "dtypes: Int64(1), float64(4), int64(4), object(4)\n",
      "memory usage: 3.6+ MB\n"
     ]
    }
   ],
   "source": [
    "df11.info()"
   ]
  },
  {
   "cell_type": "markdown",
   "metadata": {},
   "source": [
    "### Data transformation sudah selesai, selanjutnya kolom kolom yang sudah tidak berguna akan dihapus"
   ]
  },
  {
   "cell_type": "code",
   "execution_count": 274,
   "metadata": {},
   "outputs": [],
   "source": [
    "columns = ['Id', 'Fuel Consumption City', 'Fuel Consumption Hwy', 'Fuel Consumption Comb', 'Value', 'Unit']\n",
    "df12 = df11.drop(columns, axis='columns')"
   ]
  },
  {
   "cell_type": "code",
   "execution_count": 275,
   "metadata": {},
   "outputs": [
    {
     "name": "stdout",
     "output_type": "stream",
     "text": [
      "<class 'pandas.core.frame.DataFrame'>\n",
      "RangeIndex: 36112 entries, 0 to 36111\n",
      "Data columns (total 7 columns):\n",
      " #   Column                        Non-Null Count  Dtype  \n",
      "---  ------                        --------------  -----  \n",
      " 0   Engine Size(L)                36112 non-null  float64\n",
      " 1   Cylinders                     36112 non-null  float64\n",
      " 2   Fuel Type                     36112 non-null  int64  \n",
      " 3   CO2 Emissions(g/km)           36112 non-null  int64  \n",
      " 4   Gear                          36112 non-null  Int64  \n",
      " 5   Transmission_value            36112 non-null  int64  \n",
      " 6   Fuel Consumption Comb (L/km)  36112 non-null  float64\n",
      "dtypes: Int64(1), float64(3), int64(3)\n",
      "memory usage: 2.0 MB\n"
     ]
    }
   ],
   "source": [
    "df12.info()"
   ]
  },
  {
   "cell_type": "markdown",
   "metadata": {},
   "source": [
    "### OUTLIER HANDLING"
   ]
  },
  {
   "cell_type": "code",
   "execution_count": 276,
   "metadata": {},
   "outputs": [
    {
     "data": {
      "text/html": [
       "<div>\n",
       "<style scoped>\n",
       "    .dataframe tbody tr th:only-of-type {\n",
       "        vertical-align: middle;\n",
       "    }\n",
       "\n",
       "    .dataframe tbody tr th {\n",
       "        vertical-align: top;\n",
       "    }\n",
       "\n",
       "    .dataframe thead th {\n",
       "        text-align: right;\n",
       "    }\n",
       "</style>\n",
       "<table border=\"1\" class=\"dataframe\">\n",
       "  <thead>\n",
       "    <tr style=\"text-align: right;\">\n",
       "      <th></th>\n",
       "      <th>Engine Size(L)</th>\n",
       "      <th>Cylinders</th>\n",
       "      <th>Fuel Type</th>\n",
       "      <th>CO2 Emissions(g/km)</th>\n",
       "      <th>Gear</th>\n",
       "      <th>Transmission_value</th>\n",
       "      <th>Fuel Consumption Comb (L/km)</th>\n",
       "    </tr>\n",
       "  </thead>\n",
       "  <tbody>\n",
       "    <tr>\n",
       "      <th>count</th>\n",
       "      <td>36112.000000</td>\n",
       "      <td>36112.000000</td>\n",
       "      <td>36112.000000</td>\n",
       "      <td>36112.000000</td>\n",
       "      <td>36112.0</td>\n",
       "      <td>36112.000000</td>\n",
       "      <td>36112.000000</td>\n",
       "    </tr>\n",
       "    <tr>\n",
       "      <th>mean</th>\n",
       "      <td>3.038004</td>\n",
       "      <td>5.368659</td>\n",
       "      <td>2.371400</td>\n",
       "      <td>250.910362</td>\n",
       "      <td>6.732665</td>\n",
       "      <td>2.049817</td>\n",
       "      <td>0.110785</td>\n",
       "    </tr>\n",
       "    <tr>\n",
       "      <th>std</th>\n",
       "      <td>1.318246</td>\n",
       "      <td>1.623017</td>\n",
       "      <td>0.683596</td>\n",
       "      <td>67.016866</td>\n",
       "      <td>1.27409</td>\n",
       "      <td>1.336135</td>\n",
       "      <td>0.031384</td>\n",
       "    </tr>\n",
       "    <tr>\n",
       "      <th>min</th>\n",
       "      <td>1.000000</td>\n",
       "      <td>3.000000</td>\n",
       "      <td>0.000000</td>\n",
       "      <td>96.000000</td>\n",
       "      <td>4.0</td>\n",
       "      <td>0.000000</td>\n",
       "      <td>0.000000</td>\n",
       "    </tr>\n",
       "    <tr>\n",
       "      <th>25%</th>\n",
       "      <td>2.000000</td>\n",
       "      <td>4.000000</td>\n",
       "      <td>2.000000</td>\n",
       "      <td>202.000000</td>\n",
       "      <td>6.0</td>\n",
       "      <td>1.000000</td>\n",
       "      <td>0.089600</td>\n",
       "    </tr>\n",
       "    <tr>\n",
       "      <th>50%</th>\n",
       "      <td>2.500000</td>\n",
       "      <td>4.000000</td>\n",
       "      <td>2.000000</td>\n",
       "      <td>236.000000</td>\n",
       "      <td>6.0</td>\n",
       "      <td>2.000000</td>\n",
       "      <td>0.104600</td>\n",
       "    </tr>\n",
       "    <tr>\n",
       "      <th>75%</th>\n",
       "      <td>3.600000</td>\n",
       "      <td>6.000000</td>\n",
       "      <td>3.000000</td>\n",
       "      <td>295.000000</td>\n",
       "      <td>8.0</td>\n",
       "      <td>3.000000</td>\n",
       "      <td>0.131306</td>\n",
       "    </tr>\n",
       "    <tr>\n",
       "      <th>max</th>\n",
       "      <td>8.400000</td>\n",
       "      <td>12.000000</td>\n",
       "      <td>4.000000</td>\n",
       "      <td>522.000000</td>\n",
       "      <td>10.0</td>\n",
       "      <td>4.000000</td>\n",
       "      <td>0.253165</td>\n",
       "    </tr>\n",
       "  </tbody>\n",
       "</table>\n",
       "</div>"
      ],
      "text/plain": [
       "       Engine Size(L)     Cylinders     Fuel Type  CO2 Emissions(g/km)  \\\n",
       "count    36112.000000  36112.000000  36112.000000         36112.000000   \n",
       "mean         3.038004      5.368659      2.371400           250.910362   \n",
       "std          1.318246      1.623017      0.683596            67.016866   \n",
       "min          1.000000      3.000000      0.000000            96.000000   \n",
       "25%          2.000000      4.000000      2.000000           202.000000   \n",
       "50%          2.500000      4.000000      2.000000           236.000000   \n",
       "75%          3.600000      6.000000      3.000000           295.000000   \n",
       "max          8.400000     12.000000      4.000000           522.000000   \n",
       "\n",
       "           Gear  Transmission_value  Fuel Consumption Comb (L/km)  \n",
       "count   36112.0        36112.000000                  36112.000000  \n",
       "mean   6.732665            2.049817                      0.110785  \n",
       "std     1.27409            1.336135                      0.031384  \n",
       "min         4.0            0.000000                      0.000000  \n",
       "25%         6.0            1.000000                      0.089600  \n",
       "50%         6.0            2.000000                      0.104600  \n",
       "75%         8.0            3.000000                      0.131306  \n",
       "max        10.0            4.000000                      0.253165  "
      ]
     },
     "execution_count": 276,
     "metadata": {},
     "output_type": "execute_result"
    }
   ],
   "source": [
    "df12.describe()"
   ]
  },
  {
   "cell_type": "markdown",
   "metadata": {},
   "source": [
    "Berdasarkan deskripsi diatas dapat langsung dilihat pada kolom 'Fuel Consumption Comb (L/km)' nilai max nya terlalu tinggi"
   ]
  },
  {
   "cell_type": "code",
   "execution_count": 277,
   "metadata": {},
   "outputs": [],
   "source": [
    "df13 = df12[~(df12['Fuel Consumption Comb (L/km)'] > 1)] "
   ]
  },
  {
   "cell_type": "code",
   "execution_count": 278,
   "metadata": {},
   "outputs": [
    {
     "data": {
      "text/html": [
       "<div>\n",
       "<style scoped>\n",
       "    .dataframe tbody tr th:only-of-type {\n",
       "        vertical-align: middle;\n",
       "    }\n",
       "\n",
       "    .dataframe tbody tr th {\n",
       "        vertical-align: top;\n",
       "    }\n",
       "\n",
       "    .dataframe thead th {\n",
       "        text-align: right;\n",
       "    }\n",
       "</style>\n",
       "<table border=\"1\" class=\"dataframe\">\n",
       "  <thead>\n",
       "    <tr style=\"text-align: right;\">\n",
       "      <th></th>\n",
       "      <th>Engine Size(L)</th>\n",
       "      <th>Cylinders</th>\n",
       "      <th>Fuel Type</th>\n",
       "      <th>CO2 Emissions(g/km)</th>\n",
       "      <th>Gear</th>\n",
       "      <th>Transmission_value</th>\n",
       "      <th>Fuel Consumption Comb (L/km)</th>\n",
       "    </tr>\n",
       "  </thead>\n",
       "  <tbody>\n",
       "    <tr>\n",
       "      <th>count</th>\n",
       "      <td>36112.000000</td>\n",
       "      <td>36112.000000</td>\n",
       "      <td>36112.000000</td>\n",
       "      <td>36112.000000</td>\n",
       "      <td>36112.0</td>\n",
       "      <td>36112.000000</td>\n",
       "      <td>36112.000000</td>\n",
       "    </tr>\n",
       "    <tr>\n",
       "      <th>mean</th>\n",
       "      <td>3.038004</td>\n",
       "      <td>5.368659</td>\n",
       "      <td>2.371400</td>\n",
       "      <td>250.910362</td>\n",
       "      <td>6.732665</td>\n",
       "      <td>2.049817</td>\n",
       "      <td>0.110785</td>\n",
       "    </tr>\n",
       "    <tr>\n",
       "      <th>std</th>\n",
       "      <td>1.318246</td>\n",
       "      <td>1.623017</td>\n",
       "      <td>0.683596</td>\n",
       "      <td>67.016866</td>\n",
       "      <td>1.27409</td>\n",
       "      <td>1.336135</td>\n",
       "      <td>0.031384</td>\n",
       "    </tr>\n",
       "    <tr>\n",
       "      <th>min</th>\n",
       "      <td>1.000000</td>\n",
       "      <td>3.000000</td>\n",
       "      <td>0.000000</td>\n",
       "      <td>96.000000</td>\n",
       "      <td>4.0</td>\n",
       "      <td>0.000000</td>\n",
       "      <td>0.000000</td>\n",
       "    </tr>\n",
       "    <tr>\n",
       "      <th>25%</th>\n",
       "      <td>2.000000</td>\n",
       "      <td>4.000000</td>\n",
       "      <td>2.000000</td>\n",
       "      <td>202.000000</td>\n",
       "      <td>6.0</td>\n",
       "      <td>1.000000</td>\n",
       "      <td>0.089600</td>\n",
       "    </tr>\n",
       "    <tr>\n",
       "      <th>50%</th>\n",
       "      <td>2.500000</td>\n",
       "      <td>4.000000</td>\n",
       "      <td>2.000000</td>\n",
       "      <td>236.000000</td>\n",
       "      <td>6.0</td>\n",
       "      <td>2.000000</td>\n",
       "      <td>0.104600</td>\n",
       "    </tr>\n",
       "    <tr>\n",
       "      <th>75%</th>\n",
       "      <td>3.600000</td>\n",
       "      <td>6.000000</td>\n",
       "      <td>3.000000</td>\n",
       "      <td>295.000000</td>\n",
       "      <td>8.0</td>\n",
       "      <td>3.000000</td>\n",
       "      <td>0.131306</td>\n",
       "    </tr>\n",
       "    <tr>\n",
       "      <th>max</th>\n",
       "      <td>8.400000</td>\n",
       "      <td>12.000000</td>\n",
       "      <td>4.000000</td>\n",
       "      <td>522.000000</td>\n",
       "      <td>10.0</td>\n",
       "      <td>4.000000</td>\n",
       "      <td>0.253165</td>\n",
       "    </tr>\n",
       "  </tbody>\n",
       "</table>\n",
       "</div>"
      ],
      "text/plain": [
       "       Engine Size(L)     Cylinders     Fuel Type  CO2 Emissions(g/km)  \\\n",
       "count    36112.000000  36112.000000  36112.000000         36112.000000   \n",
       "mean         3.038004      5.368659      2.371400           250.910362   \n",
       "std          1.318246      1.623017      0.683596            67.016866   \n",
       "min          1.000000      3.000000      0.000000            96.000000   \n",
       "25%          2.000000      4.000000      2.000000           202.000000   \n",
       "50%          2.500000      4.000000      2.000000           236.000000   \n",
       "75%          3.600000      6.000000      3.000000           295.000000   \n",
       "max          8.400000     12.000000      4.000000           522.000000   \n",
       "\n",
       "           Gear  Transmission_value  Fuel Consumption Comb (L/km)  \n",
       "count   36112.0        36112.000000                  36112.000000  \n",
       "mean   6.732665            2.049817                      0.110785  \n",
       "std     1.27409            1.336135                      0.031384  \n",
       "min         4.0            0.000000                      0.000000  \n",
       "25%         6.0            1.000000                      0.089600  \n",
       "50%         6.0            2.000000                      0.104600  \n",
       "75%         8.0            3.000000                      0.131306  \n",
       "max        10.0            4.000000                      0.253165  "
      ]
     },
     "execution_count": 278,
     "metadata": {},
     "output_type": "execute_result"
    }
   ],
   "source": [
    "df13.describe()"
   ]
  },
  {
   "cell_type": "markdown",
   "metadata": {},
   "source": [
    "Selanjutnya kita bagi menjadi beberapa kelompok untuk dicek outliernya\n",
    "- range 0-1 : ['Fuel Consumption Comb (L/km)']\n",
    "- range 1-12 : ['Engine Size(L)', 'Cylinders', 'Fuel Type', 'Gear', 'Transmission_value']\n",
    "- range > 96 : ['CO2 Emissions(g/km)']"
   ]
  },
  {
   "cell_type": "code",
   "execution_count": 282,
   "metadata": {},
   "outputs": [],
   "source": [
    "r01_columns = ['Fuel Consumption Comb (L/km)']\n",
    "r112_columns = ['Engine Size(L)', 'Cylinders', 'Fuel Type', 'Gear','Transmission_value']\n",
    "r96_columns = ['CO2 Emissions(g/km)']"
   ]
  },
  {
   "cell_type": "code",
   "execution_count": 280,
   "metadata": {},
   "outputs": [],
   "source": [
    "import matplotlib.pyplot as plt"
   ]
  },
  {
   "cell_type": "code",
   "execution_count": 283,
   "metadata": {},
   "outputs": [
    {
     "data": {
      "image/png": "[encoded data removed]",
      "text/plain": [
       "<Figure size 1000x2000 with 3 Axes>"
      ]
     },
     "metadata": {},
     "output_type": "display_data"
    }
   ],
   "source": [
    "# Create subplots\n",
    "fig, axes = plt.subplots(3, 1, figsize=(10, 20))\n",
    "\n",
    "# Plot boxplots for r112 columns\n",
    "axes[0].boxplot(df13[r112_columns], labels=r112_columns)\n",
    "axes[0].set_title('r112 Columns')\n",
    "\n",
    "# Plot boxplots for r01 columns\n",
    "axes[1].boxplot(df13[r01_columns], labels=r01_columns)\n",
    "axes[1].set_title('r01 Columns')\n",
    "\n",
    "# Plot boxplots for r96 columns\n",
    "axes[2].boxplot(df13[r96_columns], labels=r96_columns)\n",
    "axes[2].set_title('r96 Columns')\n",
    "\n",
    "# Adjust layout\n",
    "plt.tight_layout()\n",
    "\n",
    "# Show the plots\n",
    "plt.show()"
   ]
  },
  {
   "cell_type": "markdown",
   "metadata": {},
   "source": [
    "#### 2. Range 1-12"
   ]
  },
  {
   "cell_type": "code",
   "execution_count": 284,
   "metadata": {},
   "outputs": [],
   "source": [
    "df14 = df13.copy()"
   ]
  },
  {
   "cell_type": "code",
   "execution_count": 285,
   "metadata": {},
   "outputs": [
    {
     "data": {
      "image/png": "[encoded data removed]",
      "text/plain": [
       "<Figure size 640x480 with 1 Axes>"
      ]
     },
     "metadata": {},
     "output_type": "display_data"
    }
   ],
   "source": [
    "plt.boxplot(df14[r112_columns], labels=r112_columns)\n",
    "plt.title(r112_columns)\n",
    "plt.xlabel('Variable')\n",
    "plt.ylabel('Value')\n",
    "plt.show()"
   ]
  },
  {
   "cell_type": "markdown",
   "metadata": {},
   "source": [
    "Cylinders"
   ]
  },
  {
   "cell_type": "code",
   "execution_count": 286,
   "metadata": {},
   "outputs": [],
   "source": [
    "df15 = df14[~(df14['Cylinders'] > 8)]"
   ]
  },
  {
   "cell_type": "code",
   "execution_count": 287,
   "metadata": {},
   "outputs": [],
   "source": [
    "#df15[df15['Engine Size(L)'] < 6]"
   ]
  },
  {
   "cell_type": "markdown",
   "metadata": {},
   "source": [
    "#### 3. Range > 96"
   ]
  },
  {
   "cell_type": "code",
   "execution_count": 288,
   "metadata": {},
   "outputs": [],
   "source": [
    "df16 = df15.copy()"
   ]
  },
  {
   "cell_type": "code",
   "execution_count": 289,
   "metadata": {},
   "outputs": [
    {
     "data": {
      "image/png": "[encoded data removed]",
      "text/plain": [
       "<Figure size 640x480 with 1 Axes>"
      ]
     },
     "metadata": {},
     "output_type": "display_data"
    }
   ],
   "source": [
    "plt.boxplot(df16[r96_columns], labels=r96_columns)\n",
    "plt.title(r96_columns)\n",
    "plt.xlabel('Variable')\n",
    "plt.ylabel('Value')\n",
    "plt.show()"
   ]
  },
  {
   "cell_type": "code",
   "execution_count": 290,
   "metadata": {},
   "outputs": [],
   "source": [
    "df16 = df16[~(df16['CO2 Emissions(g/km)'] > 410)]"
   ]
  },
  {
   "cell_type": "markdown",
   "metadata": {},
   "source": [
    "#### 4. Range 0-1"
   ]
  },
  {
   "cell_type": "code",
   "execution_count": 291,
   "metadata": {},
   "outputs": [],
   "source": [
    "df17 = df16.copy()"
   ]
  },
  {
   "cell_type": "code",
   "execution_count": 292,
   "metadata": {},
   "outputs": [
    {
     "data": {
      "image/png": "[encoded data removed]",
      "text/plain": [
       "<Figure size 640x480 with 1 Axes>"
      ]
     },
     "metadata": {},
     "output_type": "display_data"
    }
   ],
   "source": [
    "plt.boxplot(df19[r01_columns], labels=r01_columns)\n",
    "plt.title(r01_columns)\n",
    "plt.xlabel('Variable')\n",
    "plt.ylabel('Value')\n",
    "plt.show()"
   ]
  },
  {
   "cell_type": "code",
   "execution_count": 293,
   "metadata": {},
   "outputs": [],
   "source": [
    "df18 = df17[df17['Fuel Consumption Comb (L/km)'] != 0]"
   ]
  },
  {
   "cell_type": "code",
   "execution_count": 294,
   "metadata": {},
   "outputs": [],
   "source": [
    "df19 = df18[df18['Fuel Consumption Comb (L/km)'] < 0.18]"
   ]
  },
  {
   "cell_type": "code",
   "execution_count": 303,
   "metadata": {},
   "outputs": [
    {
     "data": {
      "image/png": "[encoded data removed]",
      "text/plain": [
       "<Figure size 1000x2000 with 3 Axes>"
      ]
     },
     "metadata": {},
     "output_type": "display_data"
    }
   ],
   "source": [
    "# Create subplots\n",
    "fig, axes = plt.subplots(3, 1, figsize=(10, 20))\n",
    "\n",
    "# Plot boxplots for r112 columns\n",
    "axes[0].boxplot(df19[r112_columns], labels=r112_columns)\n",
    "axes[0].set_title('r112 Columns')\n",
    "\n",
    "# Plot boxplots for r01 columns\n",
    "axes[1].boxplot(df19[r01_columns], labels=r01_columns)\n",
    "axes[1].set_title('r01 Columns')\n",
    "\n",
    "# Plot boxplots for r96 columns\n",
    "axes[2].boxplot(df19[r96_columns], labels=r96_columns)\n",
    "axes[2].set_title('r96 Columns')\n",
    "\n",
    "# Adjust layout\n",
    "plt.tight_layout()\n",
    "\n",
    "# Show the plots\n",
    "plt.show()"
   ]
  },
  {
   "cell_type": "markdown",
   "metadata": {},
   "source": [
    "Data sudah dianggap bersih, disimpan dalam df"
   ]
  },
  {
   "cell_type": "code",
   "execution_count": 304,
   "metadata": {},
   "outputs": [
    {
     "data": {
      "text/plain": [
       "(34167, 7)"
      ]
     },
     "execution_count": 304,
     "metadata": {},
     "output_type": "execute_result"
    }
   ],
   "source": [
    "df19.shape"
   ]
  },
  {
   "cell_type": "code",
   "execution_count": 305,
   "metadata": {},
   "outputs": [],
   "source": [
    "df = df19.copy()"
   ]
  },
  {
   "cell_type": "markdown",
   "metadata": {},
   "source": [
    "# EDA"
   ]
  },
  {
   "cell_type": "code",
   "execution_count": 306,
   "metadata": {},
   "outputs": [
    {
     "data": {
      "text/plain": [
       "array([[<Axes: title={'center': 'Engine Size(L)'}>,\n",
       "        <Axes: title={'center': 'Cylinders'}>,\n",
       "        <Axes: title={'center': 'Fuel Type'}>],\n",
       "       [<Axes: title={'center': 'CO2 Emissions(g/km)'}>,\n",
       "        <Axes: title={'center': 'Gear'}>,\n",
       "        <Axes: title={'center': 'Transmission_value'}>],\n",
       "       [<Axes: title={'center': 'Fuel Consumption Comb (L/km)'}>,\n",
       "        <Axes: >, <Axes: >]], dtype=object)"
      ]
     },
     "execution_count": 306,
     "metadata": {},
     "output_type": "execute_result"
    },
    {
     "data": {
      "image/png": "[encoded data removed]",
      "text/plain": [
       "<Figure size 1200x1200 with 9 Axes>"
      ]
     },
     "metadata": {},
     "output_type": "display_data"
    }
   ],
   "source": [
    "df.hist(grid = False, figsize = (12,12))"
   ]
  },
  {
   "cell_type": "code",
   "execution_count": 307,
   "metadata": {},
   "outputs": [],
   "source": [
    "import seaborn as sns"
   ]
  },
  {
   "cell_type": "code",
   "execution_count": 308,
   "metadata": {},
   "outputs": [
    {
     "data": {
      "text/plain": [
       "<Axes: >"
      ]
     },
     "execution_count": 308,
     "metadata": {},
     "output_type": "execute_result"
    },
    {
     "data": {
      "image/png": "[encoded data removed]",
      "text/plain": [
       "<Figure size 2000x2000 with 2 Axes>"
      ]
     },
     "metadata": {},
     "output_type": "display_data"
    }
   ],
   "source": [
    "fig, ax = plt.subplots(figsize=(20,20))\n",
    "cor = df.corr()\n",
    "sns.heatmap(cor, annot = True, cmap=\"YlGnBu\")"
   ]
  },
  {
   "cell_type": "markdown",
   "metadata": {},
   "source": [
    "Feature Selection"
   ]
  },
  {
   "cell_type": "code",
   "execution_count": 310,
   "metadata": {},
   "outputs": [],
   "source": [
    "X = df.drop(['CO2 Emissions(g/km)'], axis='columns')\n",
    "y = df['CO2 Emissions(g/km)']"
   ]
  },
  {
   "cell_type": "code",
   "execution_count": 311,
   "metadata": {},
   "outputs": [
    {
     "data": {
      "text/plain": [
       "Index(['Engine Size(L)', 'Cylinders', 'Fuel Type', 'Gear',\n",
       "       'Transmission_value', 'Fuel Consumption Comb (L/km)'],\n",
       "      dtype='object')"
      ]
     },
     "execution_count": 311,
     "metadata": {},
     "output_type": "execute_result"
    }
   ],
   "source": [
    "X.columns"
   ]
  },
  {
   "cell_type": "code",
   "execution_count": 312,
   "metadata": {},
   "outputs": [
    {
     "data": {
      "text/html": [
       "<style>#sk-container-id-3 {color: black;}#sk-container-id-3 pre{padding: 0;}#sk-container-id-3 div.sk-toggleable {background-color: white;}#sk-container-id-3 label.sk-toggleable__label {cursor: pointer;display: block;width: 100%;margin-bottom: 0;padding: 0.3em;box-sizing: border-box;text-align: center;}#sk-container-id-3 label.sk-toggleable__label-arrow:before {content: \"▸\";float: left;margin-right: 0.25em;color: #696969;}#sk-container-id-3 label.sk-toggleable__label-arrow:hover:before {color: black;}#sk-container-id-3 div.sk-estimator:hover label.sk-toggleable__label-arrow:before {color: black;}#sk-container-id-3 div.sk-toggleable__content {max-height: 0;max-width: 0;overflow: hidden;text-align: left;background-color: #f0f8ff;}#sk-container-id-3 div.sk-toggleable__content pre {margin: 0.2em;color: black;border-radius: 0.25em;background-color: #f0f8ff;}#sk-container-id-3 input.sk-toggleable__control:checked~div.sk-toggleable__content {max-height: 200px;max-width: 100%;overflow: auto;}#sk-container-id-3 input.sk-toggleable__control:checked~label.sk-toggleable__label-arrow:before {content: \"▾\";}#sk-container-id-3 div.sk-estimator input.sk-toggleable__control:checked~label.sk-toggleable__label {background-color: #d4ebff;}#sk-container-id-3 div.sk-label input.sk-toggleable__control:checked~label.sk-toggleable__label {background-color: #d4ebff;}#sk-container-id-3 input.sk-hidden--visually {border: 0;clip: rect(1px 1px 1px 1px);clip: rect(1px, 1px, 1px, 1px);height: 1px;margin: -1px;overflow: hidden;padding: 0;position: absolute;width: 1px;}#sk-container-id-3 div.sk-estimator {font-family: monospace;background-color: #f0f8ff;border: 1px dotted black;border-radius: 0.25em;box-sizing: border-box;margin-bottom: 0.5em;}#sk-container-id-3 div.sk-estimator:hover {background-color: #d4ebff;}#sk-container-id-3 div.sk-parallel-item::after {content: \"\";width: 100%;border-bottom: 1px solid gray;flex-grow: 1;}#sk-container-id-3 div.sk-label:hover label.sk-toggleable__label {background-color: #d4ebff;}#sk-container-id-3 div.sk-serial::before {content: \"\";position: absolute;border-left: 1px solid gray;box-sizing: border-box;top: 0;bottom: 0;left: 50%;z-index: 0;}#sk-container-id-3 div.sk-serial {display: flex;flex-direction: column;align-items: center;background-color: white;padding-right: 0.2em;padding-left: 0.2em;position: relative;}#sk-container-id-3 div.sk-item {position: relative;z-index: 1;}#sk-container-id-3 div.sk-parallel {display: flex;align-items: stretch;justify-content: center;background-color: white;position: relative;}#sk-container-id-3 div.sk-item::before, #sk-container-id-3 div.sk-parallel-item::before {content: \"\";position: absolute;border-left: 1px solid gray;box-sizing: border-box;top: 0;bottom: 0;left: 50%;z-index: -1;}#sk-container-id-3 div.sk-parallel-item {display: flex;flex-direction: column;z-index: 1;position: relative;background-color: white;}#sk-container-id-3 div.sk-parallel-item:first-child::after {align-self: flex-end;width: 50%;}#sk-container-id-3 div.sk-parallel-item:last-child::after {align-self: flex-start;width: 50%;}#sk-container-id-3 div.sk-parallel-item:only-child::after {width: 0;}#sk-container-id-3 div.sk-dashed-wrapped {border: 1px dashed gray;margin: 0 0.4em 0.5em 0.4em;box-sizing: border-box;padding-bottom: 0.4em;background-color: white;}#sk-container-id-3 div.sk-label label {font-family: monospace;font-weight: bold;display: inline-block;line-height: 1.2em;}#sk-container-id-3 div.sk-label-container {text-align: center;}#sk-container-id-3 div.sk-container {/* jupyter's `normalize.less` sets `[hidden] { display: none; }` but bootstrap.min.css set `[hidden] { display: none !important; }` so we also need the `!important` here to be able to override the default hidden behavior on the sphinx rendered scikit-learn.org. See: https://github.com/scikit-learn/scikit-learn/issues/21755 */display: inline-block !important;position: relative;}#sk-container-id-3 div.sk-text-repr-fallback {display: none;}</style><div id=\"sk-container-id-3\" class=\"sk-top-container\"><div class=\"sk-text-repr-fallback\"><pre>ExtraTreesRegressor()</pre><b>In a Jupyter environment, please rerun this cell to show the HTML representation or trust the notebook. <br />On GitHub, the HTML representation is unable to render, please try loading this page with nbviewer.org.</b></div><div class=\"sk-container\" hidden><div class=\"sk-item\"><div class=\"sk-estimator sk-toggleable\"><input class=\"sk-toggleable__control sk-hidden--visually\" id=\"sk-estimator-id-3\" type=\"checkbox\" checked><label for=\"sk-estimator-id-3\" class=\"sk-toggleable__label sk-toggleable__label-arrow\">ExtraTreesRegressor</label><div class=\"sk-toggleable__content\"><pre>ExtraTreesRegressor()</pre></div></div></div></div></div>"
      ],
      "text/plain": [
       "ExtraTreesRegressor()"
      ]
     },
     "execution_count": 312,
     "metadata": {},
     "output_type": "execute_result"
    }
   ],
   "source": [
    "from sklearn.ensemble import ExtraTreesRegressor\n",
    "selection = ExtraTreesRegressor()\n",
    "selection.fit(X,y)"
   ]
  },
  {
   "cell_type": "code",
   "execution_count": 313,
   "metadata": {},
   "outputs": [
    {
     "data": {
      "image/png": "[encoded data removed]",
      "text/plain": [
       "<Figure size 800x800 with 1 Axes>"
      ]
     },
     "metadata": {},
     "output_type": "display_data"
    }
   ],
   "source": [
    "plt.figure(figsize = (8,8))\n",
    "feat_importances = pd.Series(selection.feature_importances_, index = X.columns)\n",
    "feat_importances.nlargest(20).plot(kind = 'barh')\n",
    "plt.show()"
   ]
  },
  {
   "cell_type": "markdown",
   "metadata": {},
   "source": [
    "# MODELING\n"
   ]
  },
  {
   "cell_type": "code",
   "execution_count": 314,
   "metadata": {},
   "outputs": [],
   "source": [
    "from sklearn.model_selection import train_test_split\n",
    "from sklearn import metrics\n",
    "\n",
    "from sklearn.preprocessing import MinMaxScaler\n",
    "from tensorflow.keras.models import Sequential\n",
    "from tensorflow.keras.layers import Dense\n",
    "from sklearn.metrics import r2_score"
   ]
  },
  {
   "cell_type": "code",
   "execution_count": 354,
   "metadata": {},
   "outputs": [],
   "source": [
    "X_train, X_test, y_train, y_test = train_test_split(X, y, test_size=0.2, random_state=42)"
   ]
  },
  {
   "cell_type": "markdown",
   "metadata": {},
   "source": [
    "## Multilinear Regressor"
   ]
  },
  {
   "cell_type": "code",
   "execution_count": 355,
   "metadata": {},
   "outputs": [
    {
     "data": {
      "text/html": [
       "<style>#sk-container-id-11 {color: black;}#sk-container-id-11 pre{padding: 0;}#sk-container-id-11 div.sk-toggleable {background-color: white;}#sk-container-id-11 label.sk-toggleable__label {cursor: pointer;display: block;width: 100%;margin-bottom: 0;padding: 0.3em;box-sizing: border-box;text-align: center;}#sk-container-id-11 label.sk-toggleable__label-arrow:before {content: \"▸\";float: left;margin-right: 0.25em;color: #696969;}#sk-container-id-11 label.sk-toggleable__label-arrow:hover:before {color: black;}#sk-container-id-11 div.sk-estimator:hover label.sk-toggleable__label-arrow:before {color: black;}#sk-container-id-11 div.sk-toggleable__content {max-height: 0;max-width: 0;overflow: hidden;text-align: left;background-color: #f0f8ff;}#sk-container-id-11 div.sk-toggleable__content pre {margin: 0.2em;color: black;border-radius: 0.25em;background-color: #f0f8ff;}#sk-container-id-11 input.sk-toggleable__control:checked~div.sk-toggleable__content {max-height: 200px;max-width: 100%;overflow: auto;}#sk-container-id-11 input.sk-toggleable__control:checked~label.sk-toggleable__label-arrow:before {content: \"▾\";}#sk-container-id-11 div.sk-estimator input.sk-toggleable__control:checked~label.sk-toggleable__label {background-color: #d4ebff;}#sk-container-id-11 div.sk-label input.sk-toggleable__control:checked~label.sk-toggleable__label {background-color: #d4ebff;}#sk-container-id-11 input.sk-hidden--visually {border: 0;clip: rect(1px 1px 1px 1px);clip: rect(1px, 1px, 1px, 1px);height: 1px;margin: -1px;overflow: hidden;padding: 0;position: absolute;width: 1px;}#sk-container-id-11 div.sk-estimator {font-family: monospace;background-color: #f0f8ff;border: 1px dotted black;border-radius: 0.25em;box-sizing: border-box;margin-bottom: 0.5em;}#sk-container-id-11 div.sk-estimator:hover {background-color: #d4ebff;}#sk-container-id-11 div.sk-parallel-item::after {content: \"\";width: 100%;border-bottom: 1px solid gray;flex-grow: 1;}#sk-container-id-11 div.sk-label:hover label.sk-toggleable__label {background-color: #d4ebff;}#sk-container-id-11 div.sk-serial::before {content: \"\";position: absolute;border-left: 1px solid gray;box-sizing: border-box;top: 0;bottom: 0;left: 50%;z-index: 0;}#sk-container-id-11 div.sk-serial {display: flex;flex-direction: column;align-items: center;background-color: white;padding-right: 0.2em;padding-left: 0.2em;position: relative;}#sk-container-id-11 div.sk-item {position: relative;z-index: 1;}#sk-container-id-11 div.sk-parallel {display: flex;align-items: stretch;justify-content: center;background-color: white;position: relative;}#sk-container-id-11 div.sk-item::before, #sk-container-id-11 div.sk-parallel-item::before {content: \"\";position: absolute;border-left: 1px solid gray;box-sizing: border-box;top: 0;bottom: 0;left: 50%;z-index: -1;}#sk-container-id-11 div.sk-parallel-item {display: flex;flex-direction: column;z-index: 1;position: relative;background-color: white;}#sk-container-id-11 div.sk-parallel-item:first-child::after {align-self: flex-end;width: 50%;}#sk-container-id-11 div.sk-parallel-item:last-child::after {align-self: flex-start;width: 50%;}#sk-container-id-11 div.sk-parallel-item:only-child::after {width: 0;}#sk-container-id-11 div.sk-dashed-wrapped {border: 1px dashed gray;margin: 0 0.4em 0.5em 0.4em;box-sizing: border-box;padding-bottom: 0.4em;background-color: white;}#sk-container-id-11 div.sk-label label {font-family: monospace;font-weight: bold;display: inline-block;line-height: 1.2em;}#sk-container-id-11 div.sk-label-container {text-align: center;}#sk-container-id-11 div.sk-container {/* jupyter's `normalize.less` sets `[hidden] { display: none; }` but bootstrap.min.css set `[hidden] { display: none !important; }` so we also need the `!important` here to be able to override the default hidden behavior on the sphinx rendered scikit-learn.org. See: https://github.com/scikit-learn/scikit-learn/issues/21755 */display: inline-block !important;position: relative;}#sk-container-id-11 div.sk-text-repr-fallback {display: none;}</style><div id=\"sk-container-id-11\" class=\"sk-top-container\"><div class=\"sk-text-repr-fallback\"><pre>LinearRegression()</pre><b>In a Jupyter environment, please rerun this cell to show the HTML representation or trust the notebook. <br />On GitHub, the HTML representation is unable to render, please try loading this page with nbviewer.org.</b></div><div class=\"sk-container\" hidden><div class=\"sk-item\"><div class=\"sk-estimator sk-toggleable\"><input class=\"sk-toggleable__control sk-hidden--visually\" id=\"sk-estimator-id-11\" type=\"checkbox\" checked><label for=\"sk-estimator-id-11\" class=\"sk-toggleable__label sk-toggleable__label-arrow\">LinearRegression</label><div class=\"sk-toggleable__content\"><pre>LinearRegression()</pre></div></div></div></div></div>"
      ],
      "text/plain": [
       "LinearRegression()"
      ]
     },
     "execution_count": 355,
     "metadata": {},
     "output_type": "execute_result"
    }
   ],
   "source": [
    "from sklearn.linear_model import LinearRegression\n",
    "\n",
    "# Create and fit the model\n",
    "model = LinearRegression()\n",
    "model.fit(X_train, y_train)"
   ]
  },
  {
   "cell_type": "code",
   "execution_count": 356,
   "metadata": {},
   "outputs": [],
   "source": [
    "# Make predictions on the test set\n",
    "y_pred = model.predict(X_test)"
   ]
  },
  {
   "cell_type": "code",
   "execution_count": 357,
   "metadata": {},
   "outputs": [
    {
     "name": "stdout",
     "output_type": "stream",
     "text": [
      "Mean Squared Error: 704.674053436696\n",
      "R-squared: 0.802735691685245\n"
     ]
    }
   ],
   "source": [
    "from sklearn.metrics import mean_squared_error\n",
    "# Evaluate the model\n",
    "mse = mean_squared_error(y_test, y_pred)\n",
    "print(f'Mean Squared Error: {mse}')\n",
    "r2 = r2_score(y_test, y_pred)\n",
    "print(f'R-squared: {r2}')"
   ]
  },
  {
   "cell_type": "markdown",
   "metadata": {},
   "source": [
    "## Neural Network"
   ]
  },
  {
   "cell_type": "code",
   "execution_count": 358,
   "metadata": {},
   "outputs": [
    {
     "name": "stdout",
     "output_type": "stream",
     "text": [
      "[[0.27777778 0.2        0.5        0.33333333 0.75       0.29062486]\n",
      " [0.27777778 0.4        0.5        0.33333333 0.5        0.40968384]\n",
      " [0.62962963 1.         0.75       0.33333333 0.         0.54501847]\n",
      " ...\n",
      " [0.09259259 0.2        0.75       0.5        0.75       0.24773291]\n",
      " [0.18518519 0.2        0.75       0.83333333 0.5        0.4059894 ]\n",
      " [0.07407407 0.2        0.5        0.33333333 0.25       0.10868703]]\n"
     ]
    }
   ],
   "source": [
    "X_train = MinMaxScaler().fit_transform(X_train)\n",
    "X_test = MinMaxScaler().fit_transform(X_test)\n",
    "\n",
    "print(X_train)"
   ]
  },
  {
   "cell_type": "code",
   "execution_count": 362,
   "metadata": {},
   "outputs": [],
   "source": [
    "# Build the neural network model\n",
    "model = Sequential()\n",
    "model.add(Dense(76, input_dim=X_train.shape[1], activation='relu'))\n",
    "model.add(Dense(38, activation='relu'))\n",
    "model.add(Dense(1, activation='linear'))  # Output layer for regression\n",
    "\n",
    "# Compile the model\n",
    "model.compile(optimizer='nadam', loss='mean_squared_error')\n"
   ]
  },
  {
   "cell_type": "code",
   "execution_count": 369,
   "metadata": {},
   "outputs": [
    {
     "name": "stdout",
     "output_type": "stream",
     "text": [
      "Epoch 1/10\n",
      " 1/73 [..............................] - ETA: 0s - loss: 432.6440"
     ]
    },
    {
     "name": "stdout",
     "output_type": "stream",
     "text": [
      "73/73 [==============================] - 0s 6ms/step - loss: 608.9637 - val_loss: 602.7697\n",
      "Epoch 2/10\n",
      "73/73 [==============================] - 0s 3ms/step - loss: 608.1478 - val_loss: 603.9615\n",
      "Epoch 3/10\n",
      "73/73 [==============================] - 0s 4ms/step - loss: 608.0160 - val_loss: 602.9744\n",
      "Epoch 4/10\n",
      "73/73 [==============================] - 0s 4ms/step - loss: 607.9964 - val_loss: 603.8544\n",
      "Epoch 5/10\n",
      "73/73 [==============================] - 0s 4ms/step - loss: 607.7774 - val_loss: 602.2151\n",
      "Epoch 6/10\n",
      "73/73 [==============================] - 0s 4ms/step - loss: 607.5447 - val_loss: 602.3539\n",
      "Epoch 7/10\n",
      "73/73 [==============================] - 0s 4ms/step - loss: 608.0490 - val_loss: 601.6453\n",
      "Epoch 8/10\n",
      "73/73 [==============================] - 0s 4ms/step - loss: 607.7148 - val_loss: 604.9366\n",
      "Epoch 9/10\n",
      "73/73 [==============================] - 0s 4ms/step - loss: 607.8948 - val_loss: 604.9758\n",
      "Epoch 10/10\n",
      "73/73 [==============================] - 0s 4ms/step - loss: 608.0610 - val_loss: 601.6791\n",
      "214/214 [==============================] - 0s 2ms/step - loss: 600.3929\n",
      "Test Loss: 600.3929443359375\n"
     ]
    }
   ],
   "source": [
    "# Train the model\n",
    "model.fit(X_train, y_train, epochs=10, batch_size=300, validation_split=0.2)\n",
    "\n",
    "# Evaluate the model on the test set\n",
    "loss = model.evaluate(X_test, y_test)\n",
    "print(f'Test Loss: {loss}')"
   ]
  },
  {
   "cell_type": "code",
   "execution_count": 370,
   "metadata": {},
   "outputs": [],
   "source": [
    "def print_evaluate(true, predicted):\n",
    "    mae = metrics.mean_absolute_error(true, predicted)\n",
    "    mse = metrics.mean_squared_error(true, predicted)\n",
    "    rmse = np.sqrt(metrics.mean_squared_error(true, predicted))\n",
    "    r2_square = metrics.r2_score(true, predicted)\n",
    "    print('MAE:', mae)\n",
    "    print('MSE:', mse)\n",
    "    print('RMSE:', rmse)\n",
    "    print('R2 Square', r2_square)\n",
    "    print('__________________________________')"
   ]
  },
  {
   "cell_type": "code",
   "execution_count": 371,
   "metadata": {},
   "outputs": [
    {
     "name": "stdout",
     "output_type": "stream",
     "text": [
      " 25/214 [==>...........................] - ETA: 0s"
     ]
    },
    {
     "name": "stdout",
     "output_type": "stream",
     "text": [
      "214/214 [==============================] - 1s 3ms/step\n"
     ]
    }
   ],
   "source": [
    "predictions = model.predict(X_test)"
   ]
  },
  {
   "cell_type": "code",
   "execution_count": 372,
   "metadata": {},
   "outputs": [
    {
     "name": "stdout",
     "output_type": "stream",
     "text": [
      "MAE: 18.430681955964378\n",
      "MSE: 600.3930697782616\n",
      "RMSE: 24.502919617430525\n",
      "R2 Square 0.8319277926451696\n",
      "__________________________________\n"
     ]
    }
   ],
   "source": [
    "print_evaluate(y_test, predictions)"
   ]
  }
 ],
 "metadata": {
  "kernelspec": {
   "display_name": "Python 3",
   "language": "python",
   "name": "python3"
  },
  "language_info": {
   "codemirror_mode": {
    "name": "ipython",
    "version": 3
   },
   "file_extension": ".py",
   "mimetype": "text/x-python",
   "name": "python",
   "nbconvert_exporter": "python",
   "pygments_lexer": "ipython3",
   "version": "3.10.11"
  }
 },
 "nbformat": 4,
 "nbformat_minor": 2
}
